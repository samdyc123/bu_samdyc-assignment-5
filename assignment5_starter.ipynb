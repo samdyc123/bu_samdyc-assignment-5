{
 "cells": [
  {
   "cell_type": "code",
   "execution_count": 3,
   "metadata": {},
   "outputs": [],
   "source": [
    "import numpy as np\n",
    "import pandas as pd"
   ]
  },
  {
   "cell_type": "code",
   "execution_count": 5,
   "metadata": {},
   "outputs": [],
   "source": [
    "# Define the KNN class\n",
    "class KNN:\n",
    "    def __init__(self, k=3, distance_metric='euclidean'):\n",
    "        self.k = k\n",
    "        self.distance_metric = distance_metric\n",
    "\n",
    "    def fit(self, X, y):\n",
    "        self.X_train = X\n",
    "        self.y_train = y\n",
    "\n",
    "    def predict(self, X):\n",
    "        return np.array([self._predict_single(x) for x in X])\n",
    "\n",
    "    def _predict_single(self, x):\n",
    "        distances = self.compute_distance(x, self.X_train)\n",
    "        k_indices = np.argsort(distances)[:self.k]\n",
    "        k_nearest_labels = [self.y_train[i] for i in k_indices]\n",
    "        return sum(k_nearest_labels) / self.k\n",
    "\n",
    "    def compute_distance(self, X1, X2):\n",
    "        if self.distance_metric == 'euclidean':\n",
    "            return [np.linalg.norm(X1 - x_train) for x_train in X2]\n",
    "        elif self.distance_metric == 'manhattan':\n",
    "            return [np.sum(np.abs(X1 - x_train)) for x_train in X2]\n",
    "        else:\n",
    "            raise ValueError(f\"Unknown distance metric: {self.distance_metric}\")"
   ]
  },
  {
   "cell_type": "code",
   "execution_count": 6,
   "metadata": {},
   "outputs": [],
   "source": [
    "# Define data preprocessing function\n",
    "def preprocess_data(train_path, test_path):\n",
    "    train_data = pd.read_csv(train_path)\n",
    "    test_data = pd.read_csv(test_path)\n",
    "    \n",
    "    # Handle categorical variables\n",
    "    train_data['Geography'] = train_data['Geography'].map({'France': 0, 'Spain': 1, 'Germany': 2})\n",
    "    train_data['Gender'] = train_data['Gender'].map({'Male': 0, 'Female': 1})\n",
    "    \n",
    "    test_data['Geography'] = test_data['Geography'].map({'France': 0, 'Spain': 1, 'Germany': 2})\n",
    "    test_data['Gender'] = test_data['Gender'].map({'Male': 0, 'Female': 1})\n",
    "    \n",
    "    features = ['CreditScore', 'Geography', 'Gender', 'Age', 'Tenure', 'Balance', 'NumOfProducts', 'HasCrCard', 'IsActiveMember', 'EstimatedSalary']\n",
    "    X_train = train_data[features].values\n",
    "    y_train = train_data['Exited'].values\n",
    "    X_test = test_data[features].values\n",
    "    \n",
    "    X_train = (X_train - np.mean(X_train, axis=0)) / np.std(X_train, axis=0)\n",
    "    X_test = (X_test - np.mean(X_test, axis=0)) / np.std(X_test, axis=0)\n",
    "    \n",
    "    return X_train, y_train, X_test\n"
   ]
  },
  {
   "cell_type": "code",
   "execution_count": 7,
   "metadata": {},
   "outputs": [],
   "source": [
    "def compute_auc(y_true, y_proba):\n",
    "    sorted_indices = np.argsort(y_proba)\n",
    "    y_true_sorted = y_true[sorted_indices]\n",
    "    \n",
    "    cum_pos_rate = np.cumsum(y_true_sorted) / np.sum(y_true_sorted)\n",
    "    cum_neg_rate = np.cumsum(1 - y_true_sorted) / np.sum(1 - y_true_sorted)\n",
    "    \n",
    "    auc = np.trapz(cum_pos_rate, cum_neg_rate)\n",
    "    return auc\n",
    "\n",
    "def cross_validate(X, y, knn, n_splits=5):\n",
    "    fold_size = len(X) // n_splits\n",
    "    auc_scores = []\n",
    "    \n",
    "    for i in range(n_splits):\n",
    "        # Split the data into training and validation sets\n",
    "        X_val = X[i * fold_size: (i + 1) * fold_size]\n",
    "        y_val = y[i * fold_size: (i + 1) * fold_size]\n",
    "        \n",
    "        X_train = np.concatenate([X[:i * fold_size], X[(i + 1) * fold_size:]], axis=0)\n",
    "        y_train = np.concatenate([y[:i * fold_size], y[(i + 1) * fold_size:]], axis=0)\n",
    "        \n",
    "        # Train the KNN model\n",
    "        knn.fit(X_train, y_train)\n",
    "        \n",
    "        # Make predictions and compute AUC\n",
    "        y_pred = knn.predict(X_val)\n",
    "        auc = compute_auc(y_val, y_pred)\n",
    "        print(\"auc: \", auc)\n",
    "\n",
    "        auc_scores.append(auc)\n",
    "    \n",
    "    return auc_scores"
   ]
  },
  {
   "cell_type": "code",
   "execution_count": null,
   "metadata": {},
   "outputs": [],
   "source": [
    "X, y, X_test = preprocess_data('data/train.csv', 'data/test.csv')\n",
    "\n",
    "for k in range(2, 50):\n",
    "    for distance_metric in ['euclidean', 'manhattan']:\n",
    "        knn = KNN(k=k, distance_metric=distance_metric)\n",
    "        print(k, distance_metric)\n",
    "        cv_scores = cross_validate(X, y, knn)\n",
    "        print(\"Cross-validation scores:\", cv_scores)\n",
    "\n",
    "knn = KNN(k=40, distance_metric='manhattan')\n",
    "\n",
    "knn.fit(X, y)\n",
    "test_predictions = knn.predict(X_test)\n",
    "\n",
    "pd.DataFrame({'id': pd.read_csv('data/test.csv')['id'], 'Exited': test_predictions}).to_csv('submissions.csv', index=False)"
   ]
  }
 ],
 "metadata": {
  "kernelspec": {
   "display_name": "Python 3.10.11 64-bit (microsoft store)",
   "language": "python",
   "name": "python3"
  },
  "language_info": {
   "codemirror_mode": {
    "name": "ipython",
    "version": 3
   },
   "file_extension": ".py",
   "mimetype": "text/x-python",
   "name": "python",
   "nbconvert_exporter": "python",
   "pygments_lexer": "ipython3",
   "version": "3.10.11"
  },
  "vscode": {
   "interpreter": {
    "hash": "ebbe4e79a5fb9024e823873d468e20f8d578ce689212ce3c8affe1a871266787"
   }
  }
 },
 "nbformat": 4,
 "nbformat_minor": 2
}
